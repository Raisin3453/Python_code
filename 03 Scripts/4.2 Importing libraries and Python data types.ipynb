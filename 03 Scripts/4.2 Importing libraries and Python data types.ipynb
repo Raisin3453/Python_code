{
 "cells": [
  {
   "cell_type": "markdown",
   "id": "bc77e81c-9d6b-4e1b-ac1d-33d017c10a26",
   "metadata": {},
   "source": [
    "# 00. Contents"
   ]
  },
  {
   "cell_type": "markdown",
   "id": "5c6db72c-1dcd-4747-88d1-ab10b6b110be",
   "metadata": {},
   "source": [
    "### 01. Importing libraries\n",
    "### 02. Data types"
   ]
  },
  {
   "cell_type": "markdown",
   "id": "76212e5f-1edb-4bc1-9417-c4c8d9081352",
   "metadata": {},
   "source": [
    "# 01.Importing Libraries"
   ]
  },
  {
   "cell_type": "code",
   "execution_count": 1,
   "id": "65b99371-89a6-4245-a39a-0df5412e6179",
   "metadata": {},
   "outputs": [],
   "source": [
    "# Import libraries\n",
    "import pandas as pd\n",
    "import numpy as np\n",
    "import os"
   ]
  },
  {
   "cell_type": "markdown",
   "id": "803d8a24-65d0-4f6c-a27b-918f47b6ccff",
   "metadata": {},
   "source": [
    "# 02. Data Types"
   ]
  },
  {
   "cell_type": "code",
   "execution_count": 5,
   "id": "3fb40151-3f17-4c4a-b5e3-498fb59a9da3",
   "metadata": {},
   "outputs": [],
   "source": [
    "x = 2"
   ]
  },
  {
   "cell_type": "code",
   "execution_count": 7,
   "id": "0f334ddd-13cf-4b19-9d80-6eda72c0d851",
   "metadata": {},
   "outputs": [
    {
     "data": {
      "text/plain": [
       "2"
      ]
     },
     "execution_count": 7,
     "metadata": {},
     "output_type": "execute_result"
    }
   ],
   "source": [
    "x"
   ]
  },
  {
   "cell_type": "code",
   "execution_count": 9,
   "id": "b3838f73-8d6d-4f20-a59e-3c610751319b",
   "metadata": {},
   "outputs": [
    {
     "name": "stdout",
     "output_type": "stream",
     "text": [
      "2\n"
     ]
    }
   ],
   "source": [
    "print(x)"
   ]
  },
  {
   "cell_type": "code",
   "execution_count": 11,
   "id": "086138df-ea90-4a72-a6a1-f75d017b8e96",
   "metadata": {},
   "outputs": [
    {
     "data": {
      "text/plain": [
       "int"
      ]
     },
     "execution_count": 11,
     "metadata": {},
     "output_type": "execute_result"
    }
   ],
   "source": [
    "type(x)"
   ]
  },
  {
   "cell_type": "code",
   "execution_count": 13,
   "id": "6fcb24b8-97de-41ea-978c-6fb6cc762c2a",
   "metadata": {},
   "outputs": [],
   "source": [
    "y = 5.486"
   ]
  },
  {
   "cell_type": "code",
   "execution_count": 15,
   "id": "5a1588ca-a4b4-46ac-a776-dcde446db47f",
   "metadata": {},
   "outputs": [
    {
     "data": {
      "text/plain": [
       "float"
      ]
     },
     "execution_count": 15,
     "metadata": {},
     "output_type": "execute_result"
    }
   ],
   "source": [
    "type(y)"
   ]
  },
  {
   "cell_type": "code",
   "execution_count": 17,
   "id": "4ab56f45-a626-453f-9098-21a6f644ae98",
   "metadata": {},
   "outputs": [],
   "source": [
    "z = 'Lithuania'"
   ]
  },
  {
   "cell_type": "code",
   "execution_count": 19,
   "id": "d4546fed-f96a-4937-9445-e6e0b5e6839a",
   "metadata": {},
   "outputs": [
    {
     "data": {
      "text/plain": [
       "str"
      ]
     },
     "execution_count": 19,
     "metadata": {},
     "output_type": "execute_result"
    }
   ],
   "source": [
    "type(z)"
   ]
  },
  {
   "cell_type": "code",
   "execution_count": 21,
   "id": "6ceea009-cd61-4dd1-ab93-bbfcabab9012",
   "metadata": {},
   "outputs": [
    {
     "data": {
      "text/plain": [
       "bool"
      ]
     },
     "execution_count": 21,
     "metadata": {},
     "output_type": "execute_result"
    }
   ],
   "source": [
    "type(True)"
   ]
  },
  {
   "cell_type": "code",
   "execution_count": 23,
   "id": "057f4c52-5a88-4952-b647-b9b409a6dc79",
   "metadata": {},
   "outputs": [
    {
     "data": {
      "text/plain": [
       "6"
      ]
     },
     "execution_count": 23,
     "metadata": {},
     "output_type": "execute_result"
    }
   ],
   "source": [
    "x + 4 "
   ]
  },
  {
   "cell_type": "code",
   "execution_count": 25,
   "id": "bd7b43bf-3abb-47f5-a2f3-fd738c12a20a",
   "metadata": {},
   "outputs": [
    {
     "data": {
      "text/plain": [
       "7.486"
      ]
     },
     "execution_count": 25,
     "metadata": {},
     "output_type": "execute_result"
    }
   ],
   "source": [
    "x + y"
   ]
  },
  {
   "cell_type": "code",
   "execution_count": 27,
   "id": "2821fa11-bc25-4c71-88fa-5142beded2eb",
   "metadata": {},
   "outputs": [],
   "source": [
    "a = 'Hello,'"
   ]
  },
  {
   "cell_type": "code",
   "execution_count": 29,
   "id": "b629842a-717e-4eb1-a722-f82502baa692",
   "metadata": {},
   "outputs": [],
   "source": [
    "b = 'teacher'"
   ]
  },
  {
   "cell_type": "code",
   "execution_count": 31,
   "id": "6c62bb7a-eccb-466d-ab96-58d9b5eec4a7",
   "metadata": {},
   "outputs": [
    {
     "data": {
      "text/plain": [
       "'Hello,teacher'"
      ]
     },
     "execution_count": 31,
     "metadata": {},
     "output_type": "execute_result"
    }
   ],
   "source": [
    "a + b"
   ]
  },
  {
   "cell_type": "code",
   "execution_count": 33,
   "id": "9d9d3243-35a6-422d-b23d-5204dcd94f0b",
   "metadata": {},
   "outputs": [],
   "source": [
    "n = 'mama'"
   ]
  },
  {
   "cell_type": "code",
   "execution_count": 35,
   "id": "adfb6715-432e-4429-8f5a-d4d5a7420d71",
   "metadata": {},
   "outputs": [
    {
     "data": {
      "text/plain": [
       "'mamamamamamamamamamamamamamamamamamamama'"
      ]
     },
     "execution_count": 35,
     "metadata": {},
     "output_type": "execute_result"
    }
   ],
   "source": [
    "n * 10"
   ]
  },
  {
   "cell_type": "code",
   "execution_count": 37,
   "id": "dc32428e-992f-4529-8844-d2422a4020c1",
   "metadata": {},
   "outputs": [],
   "source": [
    "x = x + 4"
   ]
  },
  {
   "cell_type": "code",
   "execution_count": 39,
   "id": "aa406cd8-fc9b-49c4-8742-a19cb2dbf106",
   "metadata": {},
   "outputs": [
    {
     "name": "stdout",
     "output_type": "stream",
     "text": [
      "6\n"
     ]
    }
   ],
   "source": [
    "print(x)"
   ]
  },
  {
   "cell_type": "code",
   "execution_count": 41,
   "id": "458ae0a0-e326-4007-8d35-f0148d468849",
   "metadata": {},
   "outputs": [
    {
     "data": {
      "text/plain": [
       "False"
      ]
     },
     "execution_count": 41,
     "metadata": {},
     "output_type": "execute_result"
    }
   ],
   "source": [
    "x == y"
   ]
  },
  {
   "cell_type": "code",
   "execution_count": 43,
   "id": "d853b7d1-cb7d-48b1-b975-8de14cf9fb6d",
   "metadata": {},
   "outputs": [
    {
     "data": {
      "text/plain": [
       "bool"
      ]
     },
     "execution_count": 43,
     "metadata": {},
     "output_type": "execute_result"
    }
   ],
   "source": [
    "type(x == y)"
   ]
  },
  {
   "cell_type": "code",
   "execution_count": 45,
   "id": "43c51ca9-bcca-42e6-97de-864ab7efa369",
   "metadata": {},
   "outputs": [],
   "source": [
    "x = 10"
   ]
  },
  {
   "cell_type": "code",
   "execution_count": 47,
   "id": "8efbed81-ab01-41e5-9d80-550046dd6ef7",
   "metadata": {},
   "outputs": [
    {
     "data": {
      "text/plain": [
       "100"
      ]
     },
     "execution_count": 47,
     "metadata": {},
     "output_type": "execute_result"
    }
   ],
   "source": [
    "x * 10"
   ]
  },
  {
   "cell_type": "code",
   "execution_count": 49,
   "id": "63f3decc-c1cf-4983-88ae-98afaf7fca60",
   "metadata": {},
   "outputs": [],
   "source": [
    "y = 90"
   ]
  },
  {
   "cell_type": "code",
   "execution_count": 51,
   "id": "15e58cc6-824b-407d-8c3c-d32cb3c81cf8",
   "metadata": {},
   "outputs": [
    {
     "data": {
      "text/plain": [
       "100"
      ]
     },
     "execution_count": 51,
     "metadata": {},
     "output_type": "execute_result"
    }
   ],
   "source": [
    "x + y"
   ]
  },
  {
   "cell_type": "code",
   "execution_count": 53,
   "id": "73d6dd93-f4a3-4a6f-bc72-379dc806b32a",
   "metadata": {},
   "outputs": [],
   "source": [
    "z = 1000"
   ]
  },
  {
   "cell_type": "code",
   "execution_count": 55,
   "id": "4ffd2122-48fb-417b-8ca3-d6c67ad3fb83",
   "metadata": {},
   "outputs": [
    {
     "data": {
      "text/plain": [
       "100.0"
      ]
     },
     "execution_count": 55,
     "metadata": {},
     "output_type": "execute_result"
    }
   ],
   "source": [
    "z / x"
   ]
  },
  {
   "cell_type": "code",
   "execution_count": 57,
   "id": "70747718-c393-47d9-9f79-4e18930272ba",
   "metadata": {},
   "outputs": [
    {
     "data": {
      "text/plain": [
       "float"
      ]
     },
     "execution_count": 57,
     "metadata": {},
     "output_type": "execute_result"
    }
   ],
   "source": [
    "type(z / x)"
   ]
  },
  {
   "cell_type": "code",
   "execution_count": 79,
   "id": "2ccf1a41-e440-4361-9697-d38fa68244eb",
   "metadata": {},
   "outputs": [],
   "source": [
    "a = 655.25"
   ]
  },
  {
   "cell_type": "code",
   "execution_count": 81,
   "id": "b4abd664-4b02-44af-ae43-aba0cdcfefab",
   "metadata": {},
   "outputs": [],
   "source": [
    "b = 5.125"
   ]
  },
  {
   "cell_type": "code",
   "execution_count": 83,
   "id": "deec9c84-2185-4c9e-8641-cb9e0066bfb0",
   "metadata": {},
   "outputs": [
    {
     "data": {
      "text/plain": [
       "127.85365853658537"
      ]
     },
     "execution_count": 83,
     "metadata": {},
     "output_type": "execute_result"
    }
   ],
   "source": [
    "a / b"
   ]
  },
  {
   "cell_type": "code",
   "execution_count": 85,
   "id": "d6a42c0f-7982-4760-a687-cab942891364",
   "metadata": {},
   "outputs": [],
   "source": [
    "n = 'car'"
   ]
  },
  {
   "cell_type": "code",
   "execution_count": 87,
   "id": "73c289af-b38a-422c-b9dd-6b6a2aeb5edf",
   "metadata": {},
   "outputs": [],
   "source": [
    "m = 'jack'"
   ]
  },
  {
   "cell_type": "code",
   "execution_count": 89,
   "id": "c126311f-ab5f-4044-a72a-b14b294bc7f2",
   "metadata": {},
   "outputs": [],
   "source": [
    "o = 'ing'"
   ]
  },
  {
   "cell_type": "code",
   "execution_count": 91,
   "id": "8a1d8f19-786a-41a3-b546-a773813b5b73",
   "metadata": {},
   "outputs": [
    {
     "data": {
      "text/plain": [
       "'carjacking'"
      ]
     },
     "execution_count": 91,
     "metadata": {},
     "output_type": "execute_result"
    }
   ],
   "source": [
    "n + m + o"
   ]
  },
  {
   "cell_type": "code",
   "execution_count": 95,
   "id": "448861cb-a74f-4c12-a473-23d96a304b3c",
   "metadata": {},
   "outputs": [],
   "source": [
    "e = 'A martini, '"
   ]
  },
  {
   "cell_type": "code",
   "execution_count": 97,
   "id": "0a2d0b9a-bb13-4cb6-9c7e-f268f90a106f",
   "metadata": {},
   "outputs": [],
   "source": [
    "f = 'please.'"
   ]
  },
  {
   "cell_type": "code",
   "execution_count": 99,
   "id": "5e3e9f5e-d1d9-465e-890b-e4ae64470d38",
   "metadata": {},
   "outputs": [],
   "source": [
    "g = ' Shaken, '"
   ]
  },
  {
   "cell_type": "code",
   "execution_count": 101,
   "id": "d2741ffe-cbfc-4057-a6cb-f86b5eb05fab",
   "metadata": {},
   "outputs": [],
   "source": [
    "h = 'not stirred.'"
   ]
  },
  {
   "cell_type": "code",
   "execution_count": 103,
   "id": "d9217615-f68c-425c-9c45-36b7473c038f",
   "metadata": {},
   "outputs": [
    {
     "data": {
      "text/plain": [
       "'A martini, please. Shaken, not stirred.'"
      ]
     },
     "execution_count": 103,
     "metadata": {},
     "output_type": "execute_result"
    }
   ],
   "source": [
    "e + f + g + h"
   ]
  },
  {
   "cell_type": "code",
   "execution_count": null,
   "id": "cc28cbcf-4232-48ab-b4ef-6ca23177809d",
   "metadata": {},
   "outputs": [],
   "source": []
  }
 ],
 "metadata": {
  "kernelspec": {
   "display_name": "Python 3 (ipykernel)",
   "language": "python",
   "name": "python3"
  },
  "language_info": {
   "codemirror_mode": {
    "name": "ipython",
    "version": 3
   },
   "file_extension": ".py",
   "mimetype": "text/x-python",
   "name": "python",
   "nbconvert_exporter": "python",
   "pygments_lexer": "ipython3",
   "version": "3.12.7"
  }
 },
 "nbformat": 4,
 "nbformat_minor": 5
}
